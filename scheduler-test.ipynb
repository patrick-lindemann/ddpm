{
 "cells": [
  {
   "cell_type": "code",
   "execution_count": 21,
   "metadata": {},
   "outputs": [],
   "source": [
    "import torch\n",
    "from torch import nn\n",
    "from torch.nn import functional as F\n",
    "import numpy as np\n",
    "import matplotlib.pyplot as plt\n",
    "from torchvision.datasets import CIFAR10\n",
    "from torchvision.datasets import CelebA\n",
    "from torchvision import transforms\n",
    "from tqdm import tqdm"
   ]
  },
  {
   "cell_type": "code",
   "execution_count": 22,
   "metadata": {},
   "outputs": [
    {
     "name": "stdout",
     "output_type": "stream",
     "text": [
      "cuda\n"
     ]
    }
   ],
   "source": [
    "device = torch.device(\"cuda\" if torch.cuda.is_available() else \"cpu\")\n",
    "print(device)"
   ]
  },
  {
   "cell_type": "markdown",
   "metadata": {},
   "source": [
    "alpha_t = 1 - beta_t\n",
    "alpha_t_hat = a_0 * ... * a_t\n",
    "x_t = sqrt(alpha_t_hat) * x_0 + sqrt(1-alpha_t_hat) * noise\n",
    "\n",
    "https://lilianweng.github.io/posts/2021-07-11-diffusion-models/"
   ]
  },
  {
   "cell_type": "code",
   "execution_count": 30,
   "metadata": {},
   "outputs": [],
   "source": [
    "transform_pipelines = transforms.Compose(\n",
    "    [\n",
    "        # transforms.CenterCrop(178),\n",
    "        transforms.Resize((32, 32)),\n",
    "        transforms.ToTensor(),  # (3,W,H)\n",
    "        transforms.Lambda(lambda t: (t * 2) - 1),\n",
    "    ]\n",
    ")\n",
    "\n",
    "\n",
    "undo_transform_pipelines = transforms.Compose(\n",
    "    [\n",
    "        transforms.Lambda(lambda t: (t + 1) / 2),\n",
    "        transforms.Lambda(lambda t: t.permute(1, 2, 0)),  # CHW to HWC\n",
    "        transforms.Lambda(\n",
    "            lambda t: (t * 255.0).numpy().astype(np.uint8)\n",
    "        ),  # Scale data between [0.,255.]\n",
    "    ]\n",
    ")"
   ]
  },
  {
   "cell_type": "code",
   "execution_count": 31,
   "metadata": {},
   "outputs": [],
   "source": [
    "def load_data(dataset_name=\"CIFAR10\", batch_size=16, transform=None):\n",
    "    dataset_mapping = {\n",
    "        \"CIFAR10\": {\"class\": CIFAR10, \"root\": \"./data\"},\n",
    "        \"CelebA\": {\"class\": CelebA, \"root\": \"./data\"},\n",
    "    }\n",
    "\n",
    "    dataset_info = dataset_mapping[dataset_name]\n",
    "    dataset_class = dataset_info[\"class\"]\n",
    "    dataset_root = dataset_info[\"root\"]\n",
    "\n",
    "    dataset = dataset_class(root=dataset_root, download=True, transform=transform)\n",
    "    dataloader = torch.utils.data.DataLoader(\n",
    "        dataset, batch_size=batch_size, shuffle=True\n",
    "    )\n",
    "\n",
    "    images, labels = next(iter(dataloader))\n",
    "\n",
    "    return images, labels"
   ]
  },
  {
   "cell_type": "code",
   "execution_count": 32,
   "metadata": {},
   "outputs": [],
   "source": [
    "def noise_scheduler(\n",
    "    x_0: torch.tensor, t: torch.tensor, betas: torch.tensor, device: str\n",
    "):\n",
    "    noise = torch.randn(size=x_0.shape)\n",
    "\n",
    "    alpha_hats = torch.cumprod(1 - betas, axis=0)\n",
    "\n",
    "    selected_alpha_hats = alpha_hats[t]\n",
    "    selected_alpha_hats = selected_alpha_hats.reshape(shape=(t.shape[0], 1, 1, 1))\n",
    "\n",
    "    mean = torch.sqrt(selected_alpha_hats) * x_0\n",
    "    variance = torch.sqrt(1.0 - selected_alpha_hats) * noise\n",
    "\n",
    "    x_ts = mean + variance\n",
    "\n",
    "    return x_ts.to(device), noise.to(device)"
   ]
  },
  {
   "cell_type": "code",
   "execution_count": 33,
   "metadata": {},
   "outputs": [],
   "source": [
    "class BasicUNet(nn.Module):\n",
    "    def __init__(self, in_channels=1, out_channels=1):\n",
    "        super().__init__()\n",
    "        self.down_layers = torch.nn.ModuleList(\n",
    "            [\n",
    "                nn.Conv2d(in_channels, 32, kernel_size=5, padding=2),\n",
    "                nn.Conv2d(32, 64, kernel_size=5, padding=2),\n",
    "                nn.Conv2d(64, 64, kernel_size=5, padding=2),\n",
    "            ]\n",
    "        )\n",
    "        self.up_layers = torch.nn.ModuleList(\n",
    "            [\n",
    "                nn.Conv2d(64, 64, kernel_size=5, padding=2),\n",
    "                nn.Conv2d(64, 32, kernel_size=5, padding=2),\n",
    "                nn.Conv2d(32, out_channels, kernel_size=5, padding=2),\n",
    "            ]\n",
    "        )\n",
    "        self.act = nn.SiLU()  # The activation function\n",
    "        self.downscale = nn.MaxPool2d(2)\n",
    "        self.upscale = nn.Upsample(scale_factor=2)\n",
    "\n",
    "    def forward(self, x):\n",
    "        h = []\n",
    "        for i, l in enumerate(self.down_layers):\n",
    "            x = self.act(l(x))\n",
    "            if i < 2:\n",
    "                h.append(x)\n",
    "                x = self.downscale(x)\n",
    "        for i, l in enumerate(self.up_layers):\n",
    "            if i > 0:\n",
    "                x = self.upscale(x[None, :, :, :])[0]\n",
    "                x += h.pop()\n",
    "            x = self.act(l(x))\n",
    "\n",
    "        return x"
   ]
  },
  {
   "cell_type": "code",
   "execution_count": 34,
   "metadata": {},
   "outputs": [
    {
     "name": "stdout",
     "output_type": "stream",
     "text": [
      "Files already downloaded and verified\n"
     ]
    }
   ],
   "source": [
    "# Google-Drive Error: Follow link to manually download CelebA dataset https://github.com/pytorch/vision/issues/2262#issuecomment-1235752527\n",
    "# images, labels = load_data(dataset_name='CelebA', batch_size=8, transform=transform_pipelines)\n",
    "images, labels = load_data(\n",
    "    dataset_name=\"CIFAR10\", batch_size=8, transform=transform_pipelines\n",
    ")"
   ]
  },
  {
   "cell_type": "code",
   "execution_count": 35,
   "metadata": {},
   "outputs": [
    {
     "data": {
      "text/plain": [
       "<matplotlib.image.AxesImage at 0x7fe8e3fbf130>"
      ]
     },
     "execution_count": 35,
     "metadata": {},
     "output_type": "execute_result"
    },
    {
     "data": {
      "image/png": "[encoded data removed]",
      "text/plain": [
       "<Figure size 640x480 with 1 Axes>"
      ]
     },
     "metadata": {},
     "output_type": "display_data"
    }
   ],
   "source": [
    "plt.imshow(undo_transform_pipelines(images[0]))"
   ]
  },
  {
   "cell_type": "code",
   "execution_count": 39,
   "metadata": {},
   "outputs": [
    {
     "name": "stderr",
     "output_type": "stream",
     "text": [
      "  0%|          | 2/1500 [00:00<03:02,  8.20it/s]"
     ]
    },
    {
     "name": "stdout",
     "output_type": "stream",
     "text": [
      "Finished epoch 0. Average loss for this epoch: 0.816824\n"
     ]
    },
    {
     "name": "stderr",
     "output_type": "stream",
     "text": [
      "  7%|▋         | 102/1500 [00:13<02:57,  7.87it/s]"
     ]
    },
    {
     "name": "stdout",
     "output_type": "stream",
     "text": [
      "Finished epoch 100. Average loss for this epoch: 0.486252\n"
     ]
    },
    {
     "name": "stderr",
     "output_type": "stream",
     "text": [
      " 13%|█▎        | 202/1500 [00:26<02:55,  7.40it/s]"
     ]
    },
    {
     "name": "stdout",
     "output_type": "stream",
     "text": [
      "Finished epoch 200. Average loss for this epoch: 0.457645\n"
     ]
    },
    {
     "name": "stderr",
     "output_type": "stream",
     "text": [
      " 20%|██        | 302/1500 [00:40<02:32,  7.85it/s]"
     ]
    },
    {
     "name": "stdout",
     "output_type": "stream",
     "text": [
      "Finished epoch 300. Average loss for this epoch: 0.991385\n"
     ]
    },
    {
     "name": "stderr",
     "output_type": "stream",
     "text": [
      " 27%|██▋       | 402/1500 [00:53<02:33,  7.15it/s]"
     ]
    },
    {
     "name": "stdout",
     "output_type": "stream",
     "text": [
      "Finished epoch 400. Average loss for this epoch: 0.994888\n"
     ]
    },
    {
     "name": "stderr",
     "output_type": "stream",
     "text": [
      " 33%|███▎      | 502/1500 [01:06<02:10,  7.67it/s]"
     ]
    },
    {
     "name": "stdout",
     "output_type": "stream",
     "text": [
      "Finished epoch 500. Average loss for this epoch: 1.007089\n"
     ]
    },
    {
     "name": "stderr",
     "output_type": "stream",
     "text": [
      " 40%|████      | 602/1500 [01:22<02:11,  6.83it/s]"
     ]
    },
    {
     "name": "stdout",
     "output_type": "stream",
     "text": [
      "Finished epoch 600. Average loss for this epoch: 0.996268\n"
     ]
    },
    {
     "name": "stderr",
     "output_type": "stream",
     "text": [
      " 47%|████▋     | 702/1500 [01:35<01:45,  7.53it/s]"
     ]
    },
    {
     "name": "stdout",
     "output_type": "stream",
     "text": [
      "Finished epoch 700. Average loss for this epoch: 1.002009\n"
     ]
    },
    {
     "name": "stderr",
     "output_type": "stream",
     "text": [
      " 53%|█████▎    | 802/1500 [01:48<01:45,  6.62it/s]"
     ]
    },
    {
     "name": "stdout",
     "output_type": "stream",
     "text": [
      "Finished epoch 800. Average loss for this epoch: 0.998341\n"
     ]
    },
    {
     "name": "stderr",
     "output_type": "stream",
     "text": [
      " 60%|██████    | 902/1500 [02:03<01:20,  7.46it/s]"
     ]
    },
    {
     "name": "stdout",
     "output_type": "stream",
     "text": [
      "Finished epoch 900. Average loss for this epoch: 0.995654\n"
     ]
    },
    {
     "name": "stderr",
     "output_type": "stream",
     "text": [
      " 67%|██████▋   | 1002/1500 [02:16<01:07,  7.38it/s]"
     ]
    },
    {
     "name": "stdout",
     "output_type": "stream",
     "text": [
      "Finished epoch 1000. Average loss for this epoch: 0.998456\n"
     ]
    },
    {
     "name": "stderr",
     "output_type": "stream",
     "text": [
      " 73%|███████▎  | 1102/1500 [02:30<00:52,  7.52it/s]"
     ]
    },
    {
     "name": "stdout",
     "output_type": "stream",
     "text": [
      "Finished epoch 1100. Average loss for this epoch: 0.996862\n"
     ]
    },
    {
     "name": "stderr",
     "output_type": "stream",
     "text": [
      " 80%|████████  | 1202/1500 [02:43<00:39,  7.53it/s]"
     ]
    },
    {
     "name": "stdout",
     "output_type": "stream",
     "text": [
      "Finished epoch 1200. Average loss for this epoch: 1.003763\n"
     ]
    },
    {
     "name": "stderr",
     "output_type": "stream",
     "text": [
      " 87%|████████▋ | 1302/1500 [03:01<00:33,  5.91it/s]"
     ]
    },
    {
     "name": "stdout",
     "output_type": "stream",
     "text": [
      "Finished epoch 1300. Average loss for this epoch: 1.001192\n"
     ]
    },
    {
     "name": "stderr",
     "output_type": "stream",
     "text": [
      " 93%|█████████▎| 1402/1500 [03:16<00:14,  6.83it/s]"
     ]
    },
    {
     "name": "stdout",
     "output_type": "stream",
     "text": [
      "Finished epoch 1400. Average loss for this epoch: 0.994648\n"
     ]
    },
    {
     "name": "stderr",
     "output_type": "stream",
     "text": [
      " 98%|█████████▊| 1466/1500 [03:26<00:05,  6.75it/s]"
     ]
    }
   ],
   "source": [
    "# SINGLE IMAGE TRAINING\n",
    "img = images[0]\n",
    "# Dataloader (you can mess with batch size)\n",
    "BATCH_SIZE = 32\n",
    "\n",
    "# How many runs through the data should we do?\n",
    "NO_EPOCHS = 150\n",
    "\n",
    "# How time steps for scheduler?\n",
    "TIME_STEPS = 100\n",
    "BETAS = torch.linspace(0.0001, 0.02, TIME_STEPS)\n",
    "\n",
    "# Create the network\n",
    "model = BasicUNet(in_channels=3, out_channels=3)\n",
    "model.to(device)\n",
    "\n",
    "loss_fn = nn.MSELoss()\n",
    "opt = torch.optim.Adam(model.parameters(), lr=1e-3)\n",
    "\n",
    "# Keeping a record of the losses for later viewing\n",
    "losses = []\n",
    "\n",
    "# The training loop\n",
    "for epoch in tqdm(range(NO_EPOCHS)):\n",
    "    img_batch = torch.stack([img] * BATCH_SIZE)\n",
    "    t = torch.randint(0, TIME_STEPS, (BATCH_SIZE,)).long()\n",
    "\n",
    "    img_batch_noisy, noise_batch = noise_scheduler(\n",
    "        x_0=img_batch, t=t, betas=BETAS, device=device\n",
    "    )\n",
    "\n",
    "    batch_loss = 0\n",
    "\n",
    "    for img_noisy, noise in zip(img_batch_noisy, noise_batch):\n",
    "        predicted_noise = model(img_noisy)\n",
    "\n",
    "        loss = loss_fn(predicted_noise, noise)\n",
    "        batch_loss += loss.item()\n",
    "\n",
    "        opt.zero_grad()\n",
    "        loss.backward()\n",
    "        opt.step()\n",
    "\n",
    "    batch_loss /= BATCH_SIZE\n",
    "    losses.append(batch_loss)\n",
    "\n",
    "    # Print our the average of the loss values for this epoch:\n",
    "    if epoch + 1 % 50 == 0:\n",
    "        print(f\"Finished epoch {epoch}. Average loss for this epoch: {batch_loss:05f}\")\n",
    "\n",
    "\n",
    "# View the loss curve\n",
    "plt.plot(losses)\n",
    "plt.ylim(0, 1)\n",
    "plt.xlabel(\"Epoch\")\n",
    "plt.ylabel(\"MSE Loss\")\n",
    "plt.title(\"Training Loss Over Epochs\")\n",
    "\n",
    "# Save the plot to the specified location\n",
    "save_location = \"./data/output/training_loss_plot.png\"\n",
    "plt.savefig(save_location)\n",
    "\n",
    "# Show the plot\n",
    "plt.show()"
   ]
  },
  {
   "cell_type": "code",
   "execution_count": null,
   "metadata": {},
   "outputs": [
    {
     "data": {
      "text/plain": [
       "<Figure size 3000x3000 with 0 Axes>"
      ]
     },
     "metadata": {},
     "output_type": "display_data"
    },
    {
     "data": {
      "image/png": "[encoded data removed]",
      "text/plain": [
       "<Figure size 500x500 with 4 Axes>"
      ]
     },
     "metadata": {},
     "output_type": "display_data"
    }
   ],
   "source": [
    "t = torch.randint(0, TIME_STEPS, (1,)).long()\n",
    "img_noisy, noise = noise_scheduler(x_0=img, t=t, betas=BETAS, device=device)\n",
    "\n",
    "with torch.no_grad():\n",
    "    predicted_noise = model(img_noisy[0])\n",
    "\n",
    "    predicted_noise = predicted_noise.cpu()\n",
    "    noise = noise.cpu()\n",
    "\n",
    "    img_n = img_noisy[0].cpu()\n",
    "\n",
    "    restored_img = img_n - predicted_noise\n",
    "\n",
    "    plt.figure(figsize=(30, 30))\n",
    "    f, ax = plt.subplots(2, 2, figsize=(5, 5))\n",
    "\n",
    "    ax[0, 0].imshow(undo_transform_pipelines(img_n))\n",
    "    ax[0, 0].set_title(f\"noisy image\", fontsize=10)\n",
    "    ax[0, 1].imshow(undo_transform_pipelines(restored_img))\n",
    "    ax[0, 1].set_title(f\"restored image\", fontsize=10)\n",
    "\n",
    "    ax[1, 0].imshow(undo_transform_pipelines(noise))\n",
    "    ax[1, 0].set_title(f\"ground truth noise\", fontsize=10)\n",
    "    ax[1, 1].imshow(undo_transform_pipelines(predicted_noise))\n",
    "    ax[1, 1].set_title(f\"predicted noise\", fontsize=10)\n",
    "\n",
    "    f.tight_layout()\n",
    "    plt.show()"
   ]
  }
 ],
 "metadata": {
  "kernelspec": {
   "display_name": "env",
   "language": "python",
   "name": "python3"
  },
  "language_info": {
   "codemirror_mode": {
    "name": "ipython",
    "version": 3
   },
   "file_extension": ".py",
   "mimetype": "text/x-python",
   "name": "python",
   "nbconvert_exporter": "python",
   "pygments_lexer": "ipython3",
   "version": "3.10.12"
  }
 },
 "nbformat": 4,
 "nbformat_minor": 2
}
